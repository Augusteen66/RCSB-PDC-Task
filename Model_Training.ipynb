{
 "cells": [
  {
   "cell_type": "code",
   "execution_count": 1,
   "id": "58007103",
   "metadata": {},
   "outputs": [],
   "source": [
    "import torch\n",
    "from torch import nn\n",
    "from torch.utils.data import DataLoader\n",
    "from torchvision import datasets, transforms\n",
    "from Dataset_Loader import getData\n",
    "from Neural_Network_Model import SingleNeuronModel, FullyConnectedModel\n",
    "import torch.optim as optim\n",
    "from torch.utils.tensorboard import SummaryWriter\n",
    "from sklearn.metrics import accuracy_score, roc_auc_score, average_precision_score, matthews_corrcoef"
   ]
  },
  {
   "cell_type": "code",
   "execution_count": 27,
   "id": "1834e97b",
   "metadata": {},
   "outputs": [],
   "source": [
    "import warnings\n",
    "warnings.filterwarnings('ignore') "
   ]
  },
  {
   "cell_type": "code",
   "execution_count": 7,
   "id": "c85357a5",
   "metadata": {},
   "outputs": [],
   "source": [
    "def train_model(model, optimizer, criterion, X, y, logdir, epochs=100):\n",
    "    for epoch in range(epochs):\n",
    "        model.train()\n",
    "        total_loss = 0.0  # Initialize total loss for the epoch\n",
    "        i = 0\n",
    "        total_accuracy = 0\n",
    "        writer = SummaryWriter(log_dir = logdir)\n",
    "        for batch in train_loader:\n",
    "            # Extract inputs and labels from the batch\n",
    "            X_batch, y_batch = batch['x'], batch['y']\n",
    "            \n",
    "            # Zero the gradients\n",
    "            optimizer.zero_grad()\n",
    "\n",
    "            # Forward pass\n",
    "            output = model(X_batch)\n",
    "            \n",
    "            # Compute loss\n",
    "            loss = criterion(output, y_batch)\n",
    "\n",
    "            # L2 regularization for neuron weights\n",
    "            l2_reg = torch.tensor(0.)\n",
    "            for param in model.parameters():\n",
    "                if len(param.size()) > 1:  # Check if the parameter is a weight (not bias)\n",
    "                    l2_reg += torch.norm(param, p=2)\n",
    "            loss += 0.01 * l2_reg  # Adjust the regularization strength as needed\n",
    "\n",
    "            # Backward pass\n",
    "            loss.backward()\n",
    "\n",
    "            # Update weights\n",
    "            optimizer.step()\n",
    "            \n",
    "            total_loss += loss.item()\n",
    "            \n",
    "            with torch.no_grad():\n",
    "                predictions = (model(X_batch).numpy() > 0.5).astype(int)\n",
    "            \n",
    "            accuracy = accuracy_score(y_batch, predictions)\n",
    "            total_accuracy += accuracy\n",
    "            \n",
    "            roc_auc = roc_auc_score(y_batch, predictions)\n",
    "            pr_auc = average_precision_score(y_batch, predictions)\n",
    "            mcc = matthews_corrcoef(y_batch, predictions)\n",
    "\n",
    "            i += 1\n",
    "        \n",
    "            \n",
    "        for name, param in model.named_parameters():\n",
    "           writer.add_histogram(f'{name}', param, epoch)\n",
    "        \n",
    "\n",
    "        average_loss = total_loss / i\n",
    "        \n",
    "        writer.add_scalar(\"Train Loss\", average_loss, epoch)\n",
    "        writer.add_scalar(\"Train Accuracy\", total_accuracy/i, epoch)\n",
    "        writer.add_scalar('Metrics/ROC_AUC', roc_auc, epoch)\n",
    "        writer.add_scalar('Metrics/PR_AUC', pr_auc, epoch)\n",
    "        writer.add_scalar('Metrics/MCC', mcc, epoch)\n",
    "\n",
    "        print(f'Epoch [{epoch + 1}/{epochs}], Loss: {average_loss:.4f}') \n",
    "        writer.flush()\n",
    "        \n",
    "    writer.close()\n",
    "        \n",
    "\n",
    "    return model"
   ]
  },
  {
   "cell_type": "code",
   "execution_count": 42,
   "id": "6a605e01",
   "metadata": {},
   "outputs": [],
   "source": [
    "def evaluate_model(model, test_data_loader):\n",
    "    i = 0\n",
    "    total_accuracy = 0\n",
    "    for batch in test_data_loader:\n",
    "        X_batch, y_batch = batch['x'], batch['y']\n",
    "        with torch.no_grad():\n",
    "            predictions = (model(X_batch).numpy() > 0.5).astype(int)\n",
    "        i += 1\n",
    "        roc_auc = roc_auc_score(y_batch, predictions)\n",
    "        pr_auc = average_precision_score(y_batch, predictions)\n",
    "        mcc = matthews_corrcoef(y_batch, predictions)\n",
    "    \n",
    "    return {\"roc_auc\": roc_auc / i, \"pr_auc\": pr_auc, \"mcc\": mcc}"
   ]
  },
  {
   "cell_type": "code",
   "execution_count": 4,
   "id": "dade58d5",
   "metadata": {},
   "outputs": [],
   "source": [
    "hidden_sizes = [32, 64, 128]"
   ]
  },
  {
   "cell_type": "markdown",
   "id": "0bc1a50e",
   "metadata": {},
   "source": [
    "### Load Data"
   ]
  },
  {
   "cell_type": "code",
   "execution_count": 8,
   "id": "551ea424",
   "metadata": {},
   "outputs": [],
   "source": [
    "batch_size = 1024"
   ]
  },
  {
   "cell_type": "code",
   "execution_count": 9,
   "id": "c8fca189",
   "metadata": {},
   "outputs": [],
   "source": [
    "use_weighted_sampler = True  # Set to True to use WeightedRandomSampler\n",
    "train_loader, test_loader = getData(batch_size, use_weighted_sampler)"
   ]
  },
  {
   "cell_type": "markdown",
   "id": "9072e489",
   "metadata": {},
   "source": [
    "### Single Neuron Model"
   ]
  },
  {
   "cell_type": "code",
   "execution_count": 10,
   "id": "d1ff4153",
   "metadata": {},
   "outputs": [],
   "source": [
    "#device = torch.device(\"cuda\" if torch.cuda.is_available() else \"cpu\")"
   ]
  },
  {
   "cell_type": "code",
   "execution_count": 21,
   "id": "3431e6b2",
   "metadata": {},
   "outputs": [
    {
     "data": {
      "text/plain": [
       "device(type='cuda')"
      ]
     },
     "execution_count": 21,
     "metadata": {},
     "output_type": "execute_result"
    }
   ],
   "source": [
    "device"
   ]
  },
  {
   "cell_type": "code",
   "execution_count": 22,
   "id": "346e34d9",
   "metadata": {},
   "outputs": [
    {
     "data": {
      "text/plain": [
       "True"
      ]
     },
     "execution_count": 22,
     "metadata": {},
     "output_type": "execute_result"
    }
   ],
   "source": [
    "torch.cuda.is_available()"
   ]
  },
  {
   "cell_type": "code",
   "execution_count": 23,
   "id": "c094f092",
   "metadata": {},
   "outputs": [],
   "source": [
    "input_size = 2"
   ]
  },
  {
   "cell_type": "code",
   "execution_count": 24,
   "id": "eb27c73b",
   "metadata": {},
   "outputs": [],
   "source": [
    "single_neuron_model = SingleNeuronModel(input_size)\n",
    "optimizer = optim.SGD(single_neuron_model.parameters(), lr=0.01)\n",
    "criterion = nn.BCELoss()"
   ]
  },
  {
   "cell_type": "code",
   "execution_count": 25,
   "id": "0fa7bc59",
   "metadata": {},
   "outputs": [
    {
     "name": "stdout",
     "output_type": "stream",
     "text": [
      "linear.weight\n",
      "linear.bias\n"
     ]
    }
   ],
   "source": [
    "for name, param in single_neuron_model.named_parameters():\n",
    "    print(name)"
   ]
  },
  {
   "cell_type": "code",
   "execution_count": 28,
   "id": "1286dc13",
   "metadata": {},
   "outputs": [
    {
     "name": "stdout",
     "output_type": "stream",
     "text": [
      "Epoch [1/10], Loss: 50.0150\n",
      "Epoch [2/10], Loss: 50.0393\n",
      "Epoch [3/10], Loss: 50.2733\n",
      "Epoch [4/10], Loss: 50.3617\n",
      "Epoch [5/10], Loss: 50.3424\n",
      "Epoch [6/10], Loss: 50.3672\n",
      "Epoch [7/10], Loss: 50.3320\n",
      "Epoch [8/10], Loss: 50.3118\n",
      "Epoch [9/10], Loss: 50.3781\n",
      "Epoch [10/10], Loss: 50.2763\n"
     ]
    }
   ],
   "source": [
    "single_neuron_model = train_model(single_neuron_model, optimizer, criterion, train_loader, test_loader,'models/run1', epochs = 10)"
   ]
  },
  {
   "cell_type": "code",
   "execution_count": 43,
   "id": "6a479798",
   "metadata": {},
   "outputs": [
    {
     "name": "stdout",
     "output_type": "stream",
     "text": [
      "{'roc_auc': 0.0017667844522968198, 'pr_auc': 0.038834951456310676, 'mcc': 0.0}\n"
     ]
    }
   ],
   "source": [
    "results = evaluate_model(single_neuron_model, test_loader)\n",
    "print(results)"
   ]
  },
  {
   "cell_type": "markdown",
   "id": "1803b33d",
   "metadata": {},
   "source": [
    "### Fully Connected Model with 32 hidden layers and optimizer as ADAM and Loss as Binary Cross Entropy"
   ]
  },
  {
   "cell_type": "code",
   "execution_count": 30,
   "id": "0d2e0c81",
   "metadata": {},
   "outputs": [],
   "source": [
    "hidden_size = 32\n",
    "fully_connected_model_32 = FullyConnectedModel(input_size, hidden_size)\n",
    "optimizer = optim.Adam(fully_connected_model_32.parameters(), lr=0.001) \n",
    "criterion = nn.BCELoss() "
   ]
  },
  {
   "cell_type": "code",
   "execution_count": 31,
   "id": "e6a40db0",
   "metadata": {},
   "outputs": [
    {
     "name": "stdout",
     "output_type": "stream",
     "text": [
      "Epoch [1/10], Loss: 50.0591\n",
      "Epoch [2/10], Loss: 50.0023\n",
      "Epoch [3/10], Loss: 32.0992\n",
      "Epoch [4/10], Loss: 26.2781\n",
      "Epoch [5/10], Loss: 17.6702\n",
      "Epoch [6/10], Loss: 0.7406\n",
      "Epoch [7/10], Loss: 30.0350\n",
      "Epoch [8/10], Loss: 47.2259\n",
      "Epoch [9/10], Loss: 1.5239\n",
      "Epoch [10/10], Loss: 41.1937\n",
      "Fully Connected Model with 32 Neurons Accuracy: 0.0470\n"
     ]
    }
   ],
   "source": [
    "fully_connected_model_32 = train_model(fully_connected_model_32, optimizer, criterion, train_loader, test_loader, logdir='models/run2', epochs = 10)"
   ]
  },
  {
   "cell_type": "code",
   "execution_count": 44,
   "id": "bdf758dc",
   "metadata": {},
   "outputs": [
    {
     "name": "stdout",
     "output_type": "stream",
     "text": [
      "{'roc_auc': 0.0017667844522968198, 'pr_auc': 0.043689320388349516, 'mcc': 0.0}\n"
     ]
    }
   ],
   "source": [
    "results = evaluate_model(fully_connected_model_32, test_loader)\n",
    "print(results)"
   ]
  },
  {
   "cell_type": "markdown",
   "id": "6af4069e",
   "metadata": {},
   "source": [
    "### Fully Connected Model with 64 hidden layers and optimizer as SGD and Loss as BCEWithLogitsLoss\n"
   ]
  },
  {
   "cell_type": "code",
   "execution_count": 32,
   "id": "7c591671",
   "metadata": {},
   "outputs": [],
   "source": [
    "hidden_size = 64\n",
    "fully_connected_model_64 = FullyConnectedModel(input_size, hidden_size)\n",
    "optimizer = optim.Adam(fully_connected_model_64.parameters(), lr=0.001) \n",
    "criterion = nn.BCEWithLogitsLoss() "
   ]
  },
  {
   "cell_type": "code",
   "execution_count": 33,
   "id": "e3c79b31",
   "metadata": {},
   "outputs": [
    {
     "name": "stdout",
     "output_type": "stream",
     "text": [
      "Epoch [1/10], Loss: 0.8200\n",
      "Epoch [2/10], Loss: 0.8134\n",
      "Epoch [3/10], Loss: 0.8135\n",
      "Epoch [4/10], Loss: 0.8071\n",
      "Epoch [5/10], Loss: 0.8144\n",
      "Epoch [6/10], Loss: 0.8106\n",
      "Epoch [7/10], Loss: 0.8142\n",
      "Epoch [8/10], Loss: 0.8153\n",
      "Epoch [9/10], Loss: 0.8140\n",
      "Epoch [10/10], Loss: 0.8141\n",
      "Fully Connected Model with 64 Neurons Accuracy: 0.0471\n"
     ]
    }
   ],
   "source": [
    "fully_connected_model_64 = train_model(fully_connected_model_64, optimizer, criterion, train_loader, test_loader, logdir='models/run3', epochs = 10)"
   ]
  },
  {
   "cell_type": "code",
   "execution_count": 45,
   "id": "74688fa2",
   "metadata": {},
   "outputs": [
    {
     "name": "stdout",
     "output_type": "stream",
     "text": [
      "{'roc_auc': 0.0017667844522968198, 'pr_auc': 0.03640776699029126, 'mcc': 0.0}\n"
     ]
    }
   ],
   "source": [
    "results = evaluate_model(fully_connected_model_64, test_loader)\n",
    "print(results)"
   ]
  },
  {
   "cell_type": "markdown",
   "id": "d59405b2",
   "metadata": {},
   "source": [
    "### Fully Connected Model with 128 hidden layers and optimizer as Adagrad and Loss as BCEWithLogitsLoss\n"
   ]
  },
  {
   "cell_type": "code",
   "execution_count": 34,
   "id": "dac11be7",
   "metadata": {},
   "outputs": [],
   "source": [
    "hidden_size = 128\n",
    "fully_connected_model_128 = FullyConnectedModel(input_size, hidden_size)\n",
    "optimizer = optim.Adagrad(fully_connected_model_128.parameters(), lr=0.001) \n",
    "criterion = nn.BCEWithLogitsLoss() "
   ]
  },
  {
   "cell_type": "code",
   "execution_count": 35,
   "id": "8c5ff96b",
   "metadata": {},
   "outputs": [
    {
     "name": "stdout",
     "output_type": "stream",
     "text": [
      "Epoch [1/10], Loss: 0.8743\n",
      "Epoch [2/10], Loss: 0.8658\n",
      "Epoch [3/10], Loss: 0.8599\n",
      "Epoch [4/10], Loss: 0.8551\n",
      "Epoch [5/10], Loss: 0.8509\n",
      "Epoch [6/10], Loss: 0.8471\n",
      "Epoch [7/10], Loss: 0.8444\n",
      "Epoch [8/10], Loss: 0.8422\n",
      "Epoch [9/10], Loss: 0.8396\n",
      "Epoch [10/10], Loss: 0.8374\n",
      "Fully Connected Model with 128 Neurons Accuracy: 0.0470\n"
     ]
    }
   ],
   "source": [
    "fully_connected_model_128 = train_model(fully_connected_model_128, optimizer, criterion, train_loader, test_loader,logdir='models/run3', epochs = 10)"
   ]
  },
  {
   "cell_type": "code",
   "execution_count": 46,
   "id": "b4af480c",
   "metadata": {},
   "outputs": [
    {
     "name": "stdout",
     "output_type": "stream",
     "text": [
      "{'roc_auc': 0.0017667844522968198, 'pr_auc': 0.055825242718446605, 'mcc': 0.0}\n"
     ]
    }
   ],
   "source": [
    "results = evaluate_model(fully_connected_model_128, test_loader)\n",
    "print(results)"
   ]
  }
 ],
 "metadata": {
  "kernelspec": {
   "display_name": "Python 3 (ipykernel)",
   "language": "python",
   "name": "python3"
  },
  "language_info": {
   "codemirror_mode": {
    "name": "ipython",
    "version": 3
   },
   "file_extension": ".py",
   "mimetype": "text/x-python",
   "name": "python",
   "nbconvert_exporter": "python",
   "pygments_lexer": "ipython3",
   "version": "3.9.7"
  }
 },
 "nbformat": 4,
 "nbformat_minor": 5
}
